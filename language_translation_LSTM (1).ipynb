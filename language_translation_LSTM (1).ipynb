{
  "nbformat": 4,
  "nbformat_minor": 0,
  "metadata": {
    "colab": {
      "provenance": []
    },
    "kernelspec": {
      "name": "python3",
      "display_name": "Python 3"
    },
    "language_info": {
      "name": "python"
    }
  },
  "cells": [
    {
      "cell_type": "markdown",
      "source": [
        "Now a days , people are not using LSTM model for translation of language , now use the LLM"
      ],
      "metadata": {
        "id": "ms8My1Hz9z8b"
      }
    },
    {
      "cell_type": "code",
      "execution_count": null,
      "metadata": {
        "id": "DUwn_p7FsbJx"
      },
      "outputs": [],
      "source": [
        "import numpy as np\n",
        "import tensorflow as tf\n",
        "from tensorflow.keras.layers import Input, LSTM, Dense,Embedding\n",
        "from tensorflow.keras.models import Model\n",
        "from tensorflow.keras.preprocessing.text import Tokenizer\n",
        "from tensorflow.keras.preprocessing.sequence import pad_sequences\n",
        "from sklearn.model_selection import train_test_split"
      ]
    },
    {
      "cell_type": "markdown",
      "source": [
        "## Step-2 Dataset Definition\n",
        "This is the data set where each tuple consists of smaple engilish text and its French translation , small toy dataset for demonstration purpose"
      ],
      "metadata": {
        "id": "RJcqDgxouHpx"
      }
    },
    {
      "cell_type": "code",
      "source": [
        "data = [\n",
        "         (\"hello\", \"bonjour\"),\n",
        "         (\"how are you\", \"comment ça va\"),\n",
        "         (\"thank you\", \"merci\"),\n",
        "         (\"good morning\", \"bonjour\"),\n",
        "         (\"good night\", \"bonne nuit\"),\n",
        "         (\"see you later\", \"à plus tard\"),\n",
        "         (\"I love you\", \"je t'aime\"),\n",
        "]"
      ],
      "metadata": {
        "id": "Dt1AnyjOtJfs"
      },
      "execution_count": null,
      "outputs": []
    },
    {
      "cell_type": "markdown",
      "source": [
        "## Step 3: Text Preparation\n",
        "32°C ✓ Mostly sunny Comment Share RAM Disk ^ zip(*data): Separates the data tuples into two separate lists: one for input_texts (English) and one for target_texts (French)."
      ],
      "metadata": {
        "id": "pgxfSyLruSdK"
      }
    },
    {
      "cell_type": "code",
      "source": [
        "input_texts, target_texts = zip(*data)"
      ],
      "metadata": {
        "id": "Daq7ZURauUrB"
      },
      "execution_count": null,
      "outputs": []
    },
    {
      "cell_type": "markdown",
      "source": [
        "## Step 4: Tokenization\n",
        "RAM Disk Tokenizer(): Creates a tokenizer that will convert text into sequences of integers. fit_on_texts(): This method creates a vocabulary from the input_texts and target_texts and assigns a unique integer to each word."
      ],
      "metadata": {
        "id": "QcBbjgqZulm6"
      }
    },
    {
      "cell_type": "code",
      "source": [
        "input_tokenizer = Tokenizer()\n",
        "target_tokenizer = Tokenizer()\n",
        "input_tokenizer.fit_on_texts (input_texts)\n",
        "target_tokenizer.fit_on_texts (target_texts)"
      ],
      "metadata": {
        "id": "uHp7fX0xukCU"
      },
      "execution_count": null,
      "outputs": []
    },
    {
      "cell_type": "markdown",
      "source": [
        "texts_to_sequences(): Converts each text (sentence) into a sequence of integers. Each word in the text is replaced by its corresponding integer from the vocabulary."
      ],
      "metadata": {
        "id": "9Z4sDmXsuuUq"
      }
    },
    {
      "cell_type": "code",
      "source": [
        "input_sequences = input_tokenizer.texts_to_sequences (input_texts)\n",
        "target_sequences = target_tokenizer.texts_to_sequences (target_texts)"
      ],
      "metadata": {
        "id": "7g7-zPofus57"
      },
      "execution_count": null,
      "outputs": []
    },
    {
      "cell_type": "markdown",
      "source": [
        "## Step 5: Vocabulary and Sequence\n",
        " Length Calculation word_index: This dictionary holds the integer mappings for each word. We add 1 to account for the 0-based indexing of sequences. input_vocab_size and target_vocab_size: Store the size of the vocabulary for the input and target languages."
      ],
      "metadata": {
        "id": "zZfLj-duu3Sr"
      }
    },
    {
      "cell_type": "code",
      "source": [
        "input_vocab_size = len(input_tokenizer.word_index) + 1\n",
        "target_vocab_size = len(target_tokenizer.word_index) + 1"
      ],
      "metadata": {
        "id": "DYamb8qgu2TU"
      },
      "execution_count": null,
      "outputs": []
    },
    {
      "cell_type": "markdown",
      "source": [
        "max_input_len and max_target_len: Store the maximum length of sequences in the input and target languages, respectively. This helps with padding the sequences to a uniform length."
      ],
      "metadata": {
        "id": "fpWariUrvBjB"
      }
    },
    {
      "cell_type": "code",
      "source": [
        "max_input_len = max(len(seq) for seq in input_sequences)\n",
        "max_target_len = max(len(seq) for seq in target_sequences)"
      ],
      "metadata": {
        "id": "uC99GgF9vAuk"
      },
      "execution_count": null,
      "outputs": []
    },
    {
      "cell_type": "markdown",
      "source": [
        "## Step 6: Padding Sequences\n",
        "pad_sequences(): Pads each sequence to ensure that all sequences have the same length. Padding is applied to the end of the sequences (padding=\"post\")."
      ],
      "metadata": {
        "id": "_AOQPWijvK8h"
      }
    },
    {
      "cell_type": "code",
      "source": [
        "encoder_input_data = pad_sequences (input_sequences, maxlen=max_input_len, padding=\"post\")\n",
        "decoder_input_data = pad_sequences (target_sequences, maxlen=max_target_len, padding=\"post\")"
      ],
      "metadata": {
        "id": "u-9d7mCQvHxn"
      },
      "execution_count": null,
      "outputs": []
    },
    {
      "cell_type": "markdown",
      "source": [
        "Step 7: One-Hot Encoding Target Sequences\n",
        "\n",
        "np.seroz(): creates a zero matrix where each row corresponds to a sentence and each column corresponds to a time step in the sequnce.\n",
        "the depth corresponds to the size of the vocabulary\n",
        "loop: loops over the target sequences and creates one-hot encoded vectors where only the index of the target word is marked as 1.\n",
        "The shift by one ensures that the target data starts predicting from the second word."
      ],
      "metadata": {
        "id": "6xooUYLNtLkQ"
      }
    },
    {
      "cell_type": "code",
      "source": [
        "decoder_target_data=np.zeros((len(target_texts), max_target_len,target_vocab_size),dtype='float32')\n",
        "for i, seq in enumerate(target_sequences):\n",
        "    for t, word in enumerate(seq):\n",
        "      if t>0: # target sequence shifted by one\n",
        "          decoder_target_data[i,t-1,word]=1.0"
      ],
      "metadata": {
        "id": "ux2htvcGtM8h"
      },
      "execution_count": null,
      "outputs": []
    },
    {
      "cell_type": "markdown",
      "source": [
        "## Step 8: Splitting the data\n",
        "train_test_split(): splits the input data(encoder and decoder inputs) and target data into training and testing\n",
        "sets.test_size=0.2 means 20 % of the data is used for testing and 80 % for training  "
      ],
      "metadata": {
        "id": "v5RtJY0NvtyJ"
      }
    },
    {
      "cell_type": "code",
      "source": [
        "X_train, X_test, y_train, y_test, decoder_input_train, decoder_input_test = train_test_split(\n",
        "    encoder_input_data, decoder_target_data, decoder_input_data, test_size=0.2\n",
        ")\n"
      ],
      "metadata": {
        "id": "cTa1kr7CvsoX"
      },
      "execution_count": null,
      "outputs": []
    },
    {
      "cell_type": "markdown",
      "source": [
        "## step 9: Model Architecture"
      ],
      "metadata": {
        "id": "c6NYhhTExhT-"
      }
    },
    {
      "cell_type": "code",
      "source": [
        "#embedding_dim= 128 # or  any other value you would like, typically 50,100 or 300\n",
        "#define hyperparameters\n",
        "latent_dim=128 # number o units in LSTM\n",
        "embedding_dim=128 #  size of word embeddings"
      ],
      "metadata": {
        "id": "KQ-w-9SwxgNr"
      },
      "execution_count": null,
      "outputs": []
    },
    {
      "cell_type": "markdown",
      "source": [
        "Input(shape=(max_input_len,)): Defines the input shape for the encoder (input sentence length).Embedding():\n",
        "maps the input word indices to dense vectors of size embedding_dim.LSTM(): The LSTM layer processes the input embeddings and returns two things: the final hidden state(state_h) and cell state (state_c). these states will be passed to the decoder"
      ],
      "metadata": {
        "id": "mkUWvyBQx6qX"
      }
    },
    {
      "cell_type": "code",
      "source": [
        "from tensorflow.keras.layers import Input, Embedding, LSTM\n",
        "# Define the encoder input layer\n",
        "encoder_inputs = Input(shape=(max_input_len,))\n",
        "\n",
        "# Define the embedding layer with masking\n",
        "encoder_embedding = Embedding(input_dim=input_vocab_size, output_dim=embedding_dim, mask_zero=True)(encoder_inputs)\n",
        "\n",
        "# Define the LSTM layer for the encoder\n",
        "encoder_lstm = LSTM(latent_dim, return_state=True)\n",
        "\n",
        "# Get the encoder outputs and states\n",
        "encoder_outputs, state_h, state_c = encoder_lstm(encoder_embedding)\n"
      ],
      "metadata": {
        "id": "hlzlpQM4zSxn"
      },
      "execution_count": null,
      "outputs": []
    },
    {
      "cell_type": "markdown",
      "source": [
        "Similar to the encoder, the decoder also has an embedding layer followed by an LSTM. the LSTM receives the encoder's final states(state_h, state_c)  as initial states for the decoding process. return_sequences=True ensures that the decoder produces a sequence of outputs rather than just the last output."
      ],
      "metadata": {
        "id": "W3M08hd1zw3i"
      }
    },
    {
      "cell_type": "code",
      "source": [
        "decoder_inputs= Input(shape=(max_target_len,))\n",
        "decoder_embedding=Embedding(target_vocab_size, embedding_dim)(decoder_inputs)\n",
        "decoder_lstm=LSTM(latent_dim, return_sequences=True, return_state=True)\n",
        "decoder_outputs, _, _ = decoder_lstm(decoder_embedding, initial_state=[state_h, state_c])"
      ],
      "metadata": {
        "id": "El4fu2GOzh8H"
      },
      "execution_count": null,
      "outputs": []
    },
    {
      "cell_type": "markdown",
      "source": [
        "##Dense Layer\n",
        "Dense() : A Fully connected layer that outputs a probability distribution over the target vocabulary (for each word in sequence). softmax:Ensures the output is a probability distribution"
      ],
      "metadata": {
        "id": "9h_df2fv0qNu"
      }
    },
    {
      "cell_type": "code",
      "source": [
        "from tensorflow.keras.layers import Dense\n",
        "decoder_dense=Dense(target_vocab_size, activation=\"softmax\")\n",
        "decoder_outputs=decoder_dense(decoder_outputs)"
      ],
      "metadata": {
        "id": "MEp-gVf50oL2"
      },
      "execution_count": null,
      "outputs": []
    },
    {
      "cell_type": "markdown",
      "source": [
        "## Step 10: Defining the model\n"
      ],
      "metadata": {
        "id": "EbbCxMoJ2Ub2"
      }
    },
    {
      "cell_type": "code",
      "source": [
        "model= Model([encoder_inputs,decoder_inputs], decoder_outputs)\n",
        "model.compile(optimizer=\"adam\", loss=\"categorical_crossentropy\", metrics=[\"accuracy\"])"
      ],
      "metadata": {
        "id": "JU4L5_PW2S0I"
      },
      "execution_count": null,
      "outputs": []
    },
    {
      "cell_type": "code",
      "source": [
        "#Train the model\n",
        "model.fit([X_train, decoder_input_train], y_train, batch_size=32, epochs=100, validation_data=([X_test,decoder_input_test],y_test))"
      ],
      "metadata": {
        "colab": {
          "base_uri": "https://localhost:8080/"
        },
        "id": "VbRnJPZw2pwn",
        "outputId": "d7cd0279-8c3e-4186-c71a-c205f2393063"
      },
      "execution_count": null,
      "outputs": [
        {
          "output_type": "stream",
          "name": "stdout",
          "text": [
            "Epoch 1/100\n",
            "\u001b[1m1/1\u001b[0m \u001b[32m━━━━━━━━━━━━━━━━━━━━\u001b[0m\u001b[37m\u001b[0m \u001b[1m5s\u001b[0m 5s/step - accuracy: 0.0000e+00 - loss: 0.8545 - val_accuracy: 0.0000e+00 - val_loss: 0.4275\n",
            "Epoch 2/100\n",
            "\u001b[1m1/1\u001b[0m \u001b[32m━━━━━━━━━━━━━━━━━━━━\u001b[0m\u001b[37m\u001b[0m \u001b[1m1s\u001b[0m 676ms/step - accuracy: 0.2000 - loss: 0.8498 - val_accuracy: 0.0000e+00 - val_loss: 0.4275\n",
            "Epoch 3/100\n",
            "\u001b[1m1/1\u001b[0m \u001b[32m━━━━━━━━━━━━━━━━━━━━\u001b[0m\u001b[37m\u001b[0m \u001b[1m0s\u001b[0m 154ms/step - accuracy: 0.2667 - loss: 0.8451 - val_accuracy: 0.0000e+00 - val_loss: 0.4274\n",
            "Epoch 4/100\n",
            "\u001b[1m1/1\u001b[0m \u001b[32m━━━━━━━━━━━━━━━━━━━━\u001b[0m\u001b[37m\u001b[0m \u001b[1m0s\u001b[0m 142ms/step - accuracy: 0.2667 - loss: 0.8402 - val_accuracy: 0.0000e+00 - val_loss: 0.4273\n",
            "Epoch 5/100\n",
            "\u001b[1m1/1\u001b[0m \u001b[32m━━━━━━━━━━━━━━━━━━━━\u001b[0m\u001b[37m\u001b[0m \u001b[1m0s\u001b[0m 126ms/step - accuracy: 0.2667 - loss: 0.8352 - val_accuracy: 0.0000e+00 - val_loss: 0.4273\n",
            "Epoch 6/100\n",
            "\u001b[1m1/1\u001b[0m \u001b[32m━━━━━━━━━━━━━━━━━━━━\u001b[0m\u001b[37m\u001b[0m \u001b[1m0s\u001b[0m 122ms/step - accuracy: 0.2667 - loss: 0.8299 - val_accuracy: 0.0000e+00 - val_loss: 0.4272\n",
            "Epoch 7/100\n",
            "\u001b[1m1/1\u001b[0m \u001b[32m━━━━━━━━━━━━━━━━━━━━\u001b[0m\u001b[37m\u001b[0m \u001b[1m0s\u001b[0m 138ms/step - accuracy: 0.3333 - loss: 0.8244 - val_accuracy: 0.0000e+00 - val_loss: 0.4272\n",
            "Epoch 8/100\n",
            "\u001b[1m1/1\u001b[0m \u001b[32m━━━━━━━━━━━━━━━━━━━━\u001b[0m\u001b[37m\u001b[0m \u001b[1m0s\u001b[0m 137ms/step - accuracy: 0.3333 - loss: 0.8185 - val_accuracy: 0.0000e+00 - val_loss: 0.4271\n",
            "Epoch 9/100\n",
            "\u001b[1m1/1\u001b[0m \u001b[32m━━━━━━━━━━━━━━━━━━━━\u001b[0m\u001b[37m\u001b[0m \u001b[1m0s\u001b[0m 141ms/step - accuracy: 0.3333 - loss: 0.8121 - val_accuracy: 0.0000e+00 - val_loss: 0.4271\n",
            "Epoch 10/100\n",
            "\u001b[1m1/1\u001b[0m \u001b[32m━━━━━━━━━━━━━━━━━━━━\u001b[0m\u001b[37m\u001b[0m \u001b[1m0s\u001b[0m 118ms/step - accuracy: 0.3333 - loss: 0.8053 - val_accuracy: 0.0000e+00 - val_loss: 0.4271\n",
            "Epoch 11/100\n",
            "\u001b[1m1/1\u001b[0m \u001b[32m━━━━━━━━━━━━━━━━━━━━\u001b[0m\u001b[37m\u001b[0m \u001b[1m0s\u001b[0m 153ms/step - accuracy: 0.3333 - loss: 0.7980 - val_accuracy: 0.0000e+00 - val_loss: 0.4270\n",
            "Epoch 12/100\n",
            "\u001b[1m1/1\u001b[0m \u001b[32m━━━━━━━━━━━━━━━━━━━━\u001b[0m\u001b[37m\u001b[0m \u001b[1m0s\u001b[0m 294ms/step - accuracy: 0.3333 - loss: 0.7900 - val_accuracy: 0.0000e+00 - val_loss: 0.4270\n",
            "Epoch 13/100\n",
            "\u001b[1m1/1\u001b[0m \u001b[32m━━━━━━━━━━━━━━━━━━━━\u001b[0m\u001b[37m\u001b[0m \u001b[1m0s\u001b[0m 117ms/step - accuracy: 0.3333 - loss: 0.7812 - val_accuracy: 0.0000e+00 - val_loss: 0.4270\n",
            "Epoch 14/100\n",
            "\u001b[1m1/1\u001b[0m \u001b[32m━━━━━━━━━━━━━━━━━━━━\u001b[0m\u001b[37m\u001b[0m \u001b[1m0s\u001b[0m 129ms/step - accuracy: 0.2667 - loss: 0.7717 - val_accuracy: 0.0000e+00 - val_loss: 0.4270\n",
            "Epoch 15/100\n",
            "\u001b[1m1/1\u001b[0m \u001b[32m━━━━━━━━━━━━━━━━━━━━\u001b[0m\u001b[37m\u001b[0m \u001b[1m0s\u001b[0m 104ms/step - accuracy: 0.2667 - loss: 0.7613 - val_accuracy: 0.0000e+00 - val_loss: 0.4270\n",
            "Epoch 16/100\n",
            "\u001b[1m1/1\u001b[0m \u001b[32m━━━━━━━━━━━━━━━━━━━━\u001b[0m\u001b[37m\u001b[0m \u001b[1m0s\u001b[0m 71ms/step - accuracy: 0.2667 - loss: 0.7499 - val_accuracy: 0.0000e+00 - val_loss: 0.4270\n",
            "Epoch 17/100\n",
            "\u001b[1m1/1\u001b[0m \u001b[32m━━━━━━━━━━━━━━━━━━━━\u001b[0m\u001b[37m\u001b[0m \u001b[1m0s\u001b[0m 75ms/step - accuracy: 0.2667 - loss: 0.7374 - val_accuracy: 0.0000e+00 - val_loss: 0.4270\n",
            "Epoch 18/100\n",
            "\u001b[1m1/1\u001b[0m \u001b[32m━━━━━━━━━━━━━━━━━━━━\u001b[0m\u001b[37m\u001b[0m \u001b[1m0s\u001b[0m 125ms/step - accuracy: 0.2667 - loss: 0.7237 - val_accuracy: 0.0000e+00 - val_loss: 0.4270\n",
            "Epoch 19/100\n",
            "\u001b[1m1/1\u001b[0m \u001b[32m━━━━━━━━━━━━━━━━━━━━\u001b[0m\u001b[37m\u001b[0m \u001b[1m0s\u001b[0m 81ms/step - accuracy: 0.2667 - loss: 0.7086 - val_accuracy: 0.0000e+00 - val_loss: 0.4270\n",
            "Epoch 20/100\n",
            "\u001b[1m1/1\u001b[0m \u001b[32m━━━━━━━━━━━━━━━━━━━━\u001b[0m\u001b[37m\u001b[0m \u001b[1m0s\u001b[0m 125ms/step - accuracy: 0.2667 - loss: 0.6921 - val_accuracy: 0.0000e+00 - val_loss: 0.4270\n",
            "Epoch 21/100\n",
            "\u001b[1m1/1\u001b[0m \u001b[32m━━━━━━━━━━━━━━━━━━━━\u001b[0m\u001b[37m\u001b[0m \u001b[1m0s\u001b[0m 72ms/step - accuracy: 0.2667 - loss: 0.6741 - val_accuracy: 0.0000e+00 - val_loss: 0.4271\n",
            "Epoch 22/100\n",
            "\u001b[1m1/1\u001b[0m \u001b[32m━━━━━━━━━━━━━━━━━━━━\u001b[0m\u001b[37m\u001b[0m \u001b[1m0s\u001b[0m 133ms/step - accuracy: 0.2667 - loss: 0.6545 - val_accuracy: 0.0000e+00 - val_loss: 0.4271\n",
            "Epoch 23/100\n",
            "\u001b[1m1/1\u001b[0m \u001b[32m━━━━━━━━━━━━━━━━━━━━\u001b[0m\u001b[37m\u001b[0m \u001b[1m0s\u001b[0m 72ms/step - accuracy: 0.2667 - loss: 0.6333 - val_accuracy: 0.0000e+00 - val_loss: 0.4272\n",
            "Epoch 24/100\n",
            "\u001b[1m1/1\u001b[0m \u001b[32m━━━━━━━━━━━━━━━━━━━━\u001b[0m\u001b[37m\u001b[0m \u001b[1m0s\u001b[0m 70ms/step - accuracy: 0.2667 - loss: 0.6106 - val_accuracy: 0.0000e+00 - val_loss: 0.4272\n",
            "Epoch 25/100\n",
            "\u001b[1m1/1\u001b[0m \u001b[32m━━━━━━━━━━━━━━━━━━━━\u001b[0m\u001b[37m\u001b[0m \u001b[1m0s\u001b[0m 67ms/step - accuracy: 0.2667 - loss: 0.5865 - val_accuracy: 0.0000e+00 - val_loss: 0.4273\n",
            "Epoch 26/100\n",
            "\u001b[1m1/1\u001b[0m \u001b[32m━━━━━━━━━━━━━━━━━━━━\u001b[0m\u001b[37m\u001b[0m \u001b[1m0s\u001b[0m 70ms/step - accuracy: 0.2667 - loss: 0.5617 - val_accuracy: 0.0000e+00 - val_loss: 0.4275\n",
            "Epoch 27/100\n",
            "\u001b[1m1/1\u001b[0m \u001b[32m━━━━━━━━━━━━━━━━━━━━\u001b[0m\u001b[37m\u001b[0m \u001b[1m0s\u001b[0m 77ms/step - accuracy: 0.2667 - loss: 0.5367 - val_accuracy: 0.0000e+00 - val_loss: 0.4278\n",
            "Epoch 28/100\n",
            "\u001b[1m1/1\u001b[0m \u001b[32m━━━━━━━━━━━━━━━━━━━━\u001b[0m\u001b[37m\u001b[0m \u001b[1m0s\u001b[0m 157ms/step - accuracy: 0.2667 - loss: 0.5124 - val_accuracy: 0.0000e+00 - val_loss: 0.4282\n",
            "Epoch 29/100\n",
            "\u001b[1m1/1\u001b[0m \u001b[32m━━━━━━━━━━━━━━━━━━━━\u001b[0m\u001b[37m\u001b[0m \u001b[1m0s\u001b[0m 114ms/step - accuracy: 0.2667 - loss: 0.4902 - val_accuracy: 0.0000e+00 - val_loss: 0.4287\n",
            "Epoch 30/100\n",
            "\u001b[1m1/1\u001b[0m \u001b[32m━━━━━━━━━━━━━━━━━━━━\u001b[0m\u001b[37m\u001b[0m \u001b[1m0s\u001b[0m 139ms/step - accuracy: 0.2667 - loss: 0.4710 - val_accuracy: 0.0000e+00 - val_loss: 0.4293\n",
            "Epoch 31/100\n",
            "\u001b[1m1/1\u001b[0m \u001b[32m━━━━━━━━━━━━━━━━━━━━\u001b[0m\u001b[37m\u001b[0m \u001b[1m0s\u001b[0m 73ms/step - accuracy: 0.2667 - loss: 0.4559 - val_accuracy: 0.0000e+00 - val_loss: 0.4302\n",
            "Epoch 32/100\n",
            "\u001b[1m1/1\u001b[0m \u001b[32m━━━━━━━━━━━━━━━━━━━━\u001b[0m\u001b[37m\u001b[0m \u001b[1m0s\u001b[0m 69ms/step - accuracy: 0.2667 - loss: 0.4452 - val_accuracy: 0.0000e+00 - val_loss: 0.4311\n",
            "Epoch 33/100\n",
            "\u001b[1m1/1\u001b[0m \u001b[32m━━━━━━━━━━━━━━━━━━━━\u001b[0m\u001b[37m\u001b[0m \u001b[1m0s\u001b[0m 66ms/step - accuracy: 0.2000 - loss: 0.4391 - val_accuracy: 0.0000e+00 - val_loss: 0.4322\n",
            "Epoch 34/100\n",
            "\u001b[1m1/1\u001b[0m \u001b[32m━━━━━━━━━━━━━━━━━━━━\u001b[0m\u001b[37m\u001b[0m \u001b[1m0s\u001b[0m 69ms/step - accuracy: 0.2000 - loss: 0.4367 - val_accuracy: 0.0000e+00 - val_loss: 0.4335\n",
            "Epoch 35/100\n",
            "\u001b[1m1/1\u001b[0m \u001b[32m━━━━━━━━━━━━━━━━━━━━\u001b[0m\u001b[37m\u001b[0m \u001b[1m0s\u001b[0m 140ms/step - accuracy: 0.2000 - loss: 0.4372 - val_accuracy: 0.0000e+00 - val_loss: 0.4348\n",
            "Epoch 36/100\n",
            "\u001b[1m1/1\u001b[0m \u001b[32m━━━━━━━━━━━━━━━━━━━━\u001b[0m\u001b[37m\u001b[0m \u001b[1m0s\u001b[0m 74ms/step - accuracy: 0.2000 - loss: 0.4392 - val_accuracy: 0.0000e+00 - val_loss: 0.4361\n",
            "Epoch 37/100\n",
            "\u001b[1m1/1\u001b[0m \u001b[32m━━━━━━━━━━━━━━━━━━━━\u001b[0m\u001b[37m\u001b[0m \u001b[1m0s\u001b[0m 77ms/step - accuracy: 0.2000 - loss: 0.4417 - val_accuracy: 0.0000e+00 - val_loss: 0.4374\n",
            "Epoch 38/100\n",
            "\u001b[1m1/1\u001b[0m \u001b[32m━━━━━━━━━━━━━━━━━━━━\u001b[0m\u001b[37m\u001b[0m \u001b[1m0s\u001b[0m 87ms/step - accuracy: 0.2000 - loss: 0.4439 - val_accuracy: 0.0000e+00 - val_loss: 0.4387\n",
            "Epoch 39/100\n",
            "\u001b[1m1/1\u001b[0m \u001b[32m━━━━━━━━━━━━━━━━━━━━\u001b[0m\u001b[37m\u001b[0m \u001b[1m0s\u001b[0m 82ms/step - accuracy: 0.2000 - loss: 0.4455 - val_accuracy: 0.0000e+00 - val_loss: 0.4399\n",
            "Epoch 40/100\n",
            "\u001b[1m1/1\u001b[0m \u001b[32m━━━━━━━━━━━━━━━━━━━━\u001b[0m\u001b[37m\u001b[0m \u001b[1m0s\u001b[0m 68ms/step - accuracy: 0.2000 - loss: 0.4464 - val_accuracy: 0.0000e+00 - val_loss: 0.4410\n",
            "Epoch 41/100\n",
            "\u001b[1m1/1\u001b[0m \u001b[32m━━━━━━━━━━━━━━━━━━━━\u001b[0m\u001b[37m\u001b[0m \u001b[1m0s\u001b[0m 79ms/step - accuracy: 0.2000 - loss: 0.4464 - val_accuracy: 0.0000e+00 - val_loss: 0.4421\n",
            "Epoch 42/100\n",
            "\u001b[1m1/1\u001b[0m \u001b[32m━━━━━━━━━━━━━━━━━━━━\u001b[0m\u001b[37m\u001b[0m \u001b[1m0s\u001b[0m 73ms/step - accuracy: 0.2000 - loss: 0.4456 - val_accuracy: 0.0000e+00 - val_loss: 0.4432\n",
            "Epoch 43/100\n",
            "\u001b[1m1/1\u001b[0m \u001b[32m━━━━━━━━━━━━━━━━━━━━\u001b[0m\u001b[37m\u001b[0m \u001b[1m0s\u001b[0m 70ms/step - accuracy: 0.2000 - loss: 0.4439 - val_accuracy: 0.0000e+00 - val_loss: 0.4443\n",
            "Epoch 44/100\n",
            "\u001b[1m1/1\u001b[0m \u001b[32m━━━━━━━━━━━━━━━━━━━━\u001b[0m\u001b[37m\u001b[0m \u001b[1m0s\u001b[0m 68ms/step - accuracy: 0.2000 - loss: 0.4412 - val_accuracy: 0.0000e+00 - val_loss: 0.4454\n",
            "Epoch 45/100\n",
            "\u001b[1m1/1\u001b[0m \u001b[32m━━━━━━━━━━━━━━━━━━━━\u001b[0m\u001b[37m\u001b[0m \u001b[1m0s\u001b[0m 71ms/step - accuracy: 0.2000 - loss: 0.4374 - val_accuracy: 0.0000e+00 - val_loss: 0.4467\n",
            "Epoch 46/100\n",
            "\u001b[1m1/1\u001b[0m \u001b[32m━━━━━━━━━━━━━━━━━━━━\u001b[0m\u001b[37m\u001b[0m \u001b[1m0s\u001b[0m 137ms/step - accuracy: 0.2000 - loss: 0.4322 - val_accuracy: 0.0000e+00 - val_loss: 0.4480\n",
            "Epoch 47/100\n",
            "\u001b[1m1/1\u001b[0m \u001b[32m━━━━━━━━━━━━━━━━━━━━\u001b[0m\u001b[37m\u001b[0m \u001b[1m0s\u001b[0m 75ms/step - accuracy: 0.2000 - loss: 0.4256 - val_accuracy: 0.0000e+00 - val_loss: 0.4494\n",
            "Epoch 48/100\n",
            "\u001b[1m1/1\u001b[0m \u001b[32m━━━━━━━━━━━━━━━━━━━━\u001b[0m\u001b[37m\u001b[0m \u001b[1m0s\u001b[0m 144ms/step - accuracy: 0.2000 - loss: 0.4180 - val_accuracy: 0.0000e+00 - val_loss: 0.4508\n",
            "Epoch 49/100\n",
            "\u001b[1m1/1\u001b[0m \u001b[32m━━━━━━━━━━━━━━━━━━━━\u001b[0m\u001b[37m\u001b[0m \u001b[1m0s\u001b[0m 137ms/step - accuracy: 0.2000 - loss: 0.4106 - val_accuracy: 0.0000e+00 - val_loss: 0.4522\n",
            "Epoch 50/100\n",
            "\u001b[1m1/1\u001b[0m \u001b[32m━━━━━━━━━━━━━━━━━━━━\u001b[0m\u001b[37m\u001b[0m \u001b[1m0s\u001b[0m 127ms/step - accuracy: 0.2000 - loss: 0.4040 - val_accuracy: 0.0000e+00 - val_loss: 0.4535\n",
            "Epoch 51/100\n",
            "\u001b[1m1/1\u001b[0m \u001b[32m━━━━━━━━━━━━━━━━━━━━\u001b[0m\u001b[37m\u001b[0m \u001b[1m0s\u001b[0m 89ms/step - accuracy: 0.2667 - loss: 0.3982 - val_accuracy: 0.0000e+00 - val_loss: 0.4547\n",
            "Epoch 52/100\n",
            "\u001b[1m1/1\u001b[0m \u001b[32m━━━━━━━━━━━━━━━━━━━━\u001b[0m\u001b[37m\u001b[0m \u001b[1m0s\u001b[0m 70ms/step - accuracy: 0.2667 - loss: 0.3928 - val_accuracy: 0.0000e+00 - val_loss: 0.4560\n",
            "Epoch 53/100\n",
            "\u001b[1m1/1\u001b[0m \u001b[32m━━━━━━━━━━━━━━━━━━━━\u001b[0m\u001b[37m\u001b[0m \u001b[1m0s\u001b[0m 138ms/step - accuracy: 0.2667 - loss: 0.3875 - val_accuracy: 0.0000e+00 - val_loss: 0.4572\n",
            "Epoch 54/100\n",
            "\u001b[1m1/1\u001b[0m \u001b[32m━━━━━━━━━━━━━━━━━━━━\u001b[0m\u001b[37m\u001b[0m \u001b[1m0s\u001b[0m 135ms/step - accuracy: 0.2667 - loss: 0.3817 - val_accuracy: 0.0000e+00 - val_loss: 0.4584\n",
            "Epoch 55/100\n",
            "\u001b[1m1/1\u001b[0m \u001b[32m━━━━━━━━━━━━━━━━━━━━\u001b[0m\u001b[37m\u001b[0m \u001b[1m0s\u001b[0m 78ms/step - accuracy: 0.2667 - loss: 0.3752 - val_accuracy: 0.0000e+00 - val_loss: 0.4595\n",
            "Epoch 56/100\n",
            "\u001b[1m1/1\u001b[0m \u001b[32m━━━━━━━━━━━━━━━━━━━━\u001b[0m\u001b[37m\u001b[0m \u001b[1m0s\u001b[0m 137ms/step - accuracy: 0.2667 - loss: 0.3685 - val_accuracy: 0.0000e+00 - val_loss: 0.4606\n",
            "Epoch 57/100\n",
            "\u001b[1m1/1\u001b[0m \u001b[32m━━━━━━━━━━━━━━━━━━━━\u001b[0m\u001b[37m\u001b[0m \u001b[1m0s\u001b[0m 143ms/step - accuracy: 0.2667 - loss: 0.3622 - val_accuracy: 0.0000e+00 - val_loss: 0.4613\n",
            "Epoch 58/100\n",
            "\u001b[1m1/1\u001b[0m \u001b[32m━━━━━━━━━━━━━━━━━━━━\u001b[0m\u001b[37m\u001b[0m \u001b[1m0s\u001b[0m 84ms/step - accuracy: 0.2667 - loss: 0.3569 - val_accuracy: 0.0000e+00 - val_loss: 0.4618\n",
            "Epoch 59/100\n",
            "\u001b[1m1/1\u001b[0m \u001b[32m━━━━━━━━━━━━━━━━━━━━\u001b[0m\u001b[37m\u001b[0m \u001b[1m0s\u001b[0m 76ms/step - accuracy: 0.2667 - loss: 0.3524 - val_accuracy: 0.0000e+00 - val_loss: 0.4619\n",
            "Epoch 60/100\n",
            "\u001b[1m1/1\u001b[0m \u001b[32m━━━━━━━━━━━━━━━━━━━━\u001b[0m\u001b[37m\u001b[0m \u001b[1m0s\u001b[0m 137ms/step - accuracy: 0.2667 - loss: 0.3488 - val_accuracy: 0.0000e+00 - val_loss: 0.4617\n",
            "Epoch 61/100\n",
            "\u001b[1m1/1\u001b[0m \u001b[32m━━━━━━━━━━━━━━━━━━━━\u001b[0m\u001b[37m\u001b[0m \u001b[1m0s\u001b[0m 74ms/step - accuracy: 0.2667 - loss: 0.3459 - val_accuracy: 0.0000e+00 - val_loss: 0.4611\n",
            "Epoch 62/100\n",
            "\u001b[1m1/1\u001b[0m \u001b[32m━━━━━━━━━━━━━━━━━━━━\u001b[0m\u001b[37m\u001b[0m \u001b[1m0s\u001b[0m 78ms/step - accuracy: 0.2667 - loss: 0.3437 - val_accuracy: 0.0000e+00 - val_loss: 0.4604\n",
            "Epoch 63/100\n",
            "\u001b[1m1/1\u001b[0m \u001b[32m━━━━━━━━━━━━━━━━━━━━\u001b[0m\u001b[37m\u001b[0m \u001b[1m0s\u001b[0m 137ms/step - accuracy: 0.2667 - loss: 0.3419 - val_accuracy: 0.0000e+00 - val_loss: 0.4596\n",
            "Epoch 64/100\n",
            "\u001b[1m1/1\u001b[0m \u001b[32m━━━━━━━━━━━━━━━━━━━━\u001b[0m\u001b[37m\u001b[0m \u001b[1m0s\u001b[0m 85ms/step - accuracy: 0.2667 - loss: 0.3401 - val_accuracy: 0.0000e+00 - val_loss: 0.4587\n",
            "Epoch 65/100\n",
            "\u001b[1m1/1\u001b[0m \u001b[32m━━━━━━━━━━━━━━━━━━━━\u001b[0m\u001b[37m\u001b[0m \u001b[1m0s\u001b[0m 86ms/step - accuracy: 0.2667 - loss: 0.3378 - val_accuracy: 0.0000e+00 - val_loss: 0.4580\n",
            "Epoch 66/100\n",
            "\u001b[1m1/1\u001b[0m \u001b[32m━━━━━━━━━━━━━━━━━━━━\u001b[0m\u001b[37m\u001b[0m \u001b[1m0s\u001b[0m 100ms/step - accuracy: 0.2667 - loss: 0.3347 - val_accuracy: 0.0000e+00 - val_loss: 0.4573\n",
            "Epoch 67/100\n",
            "\u001b[1m1/1\u001b[0m \u001b[32m━━━━━━━━━━━━━━━━━━━━\u001b[0m\u001b[37m\u001b[0m \u001b[1m0s\u001b[0m 109ms/step - accuracy: 0.2667 - loss: 0.3308 - val_accuracy: 0.0000e+00 - val_loss: 0.4567\n",
            "Epoch 68/100\n",
            "\u001b[1m1/1\u001b[0m \u001b[32m━━━━━━━━━━━━━━━━━━━━\u001b[0m\u001b[37m\u001b[0m \u001b[1m0s\u001b[0m 78ms/step - accuracy: 0.2667 - loss: 0.3262 - val_accuracy: 0.0000e+00 - val_loss: 0.4561\n",
            "Epoch 69/100\n",
            "\u001b[1m1/1\u001b[0m \u001b[32m━━━━━━━━━━━━━━━━━━━━\u001b[0m\u001b[37m\u001b[0m \u001b[1m0s\u001b[0m 69ms/step - accuracy: 0.2667 - loss: 0.3213 - val_accuracy: 0.0000e+00 - val_loss: 0.4555\n",
            "Epoch 70/100\n",
            "\u001b[1m1/1\u001b[0m \u001b[32m━━━━━━━━━━━━━━━━━━━━\u001b[0m\u001b[37m\u001b[0m \u001b[1m0s\u001b[0m 134ms/step - accuracy: 0.3333 - loss: 0.3163 - val_accuracy: 0.0000e+00 - val_loss: 0.4550\n",
            "Epoch 71/100\n",
            "\u001b[1m1/1\u001b[0m \u001b[32m━━━━━━━━━━━━━━━━━━━━\u001b[0m\u001b[37m\u001b[0m \u001b[1m0s\u001b[0m 64ms/step - accuracy: 0.3333 - loss: 0.3116 - val_accuracy: 0.0000e+00 - val_loss: 0.4546\n",
            "Epoch 72/100\n",
            "\u001b[1m1/1\u001b[0m \u001b[32m━━━━━━━━━━━━━━━━━━━━\u001b[0m\u001b[37m\u001b[0m \u001b[1m0s\u001b[0m 73ms/step - accuracy: 0.3333 - loss: 0.3074 - val_accuracy: 0.0000e+00 - val_loss: 0.4542\n",
            "Epoch 73/100\n",
            "\u001b[1m1/1\u001b[0m \u001b[32m━━━━━━━━━━━━━━━━━━━━\u001b[0m\u001b[37m\u001b[0m \u001b[1m0s\u001b[0m 136ms/step - accuracy: 0.3333 - loss: 0.3037 - val_accuracy: 0.0000e+00 - val_loss: 0.4539\n",
            "Epoch 74/100\n",
            "\u001b[1m1/1\u001b[0m \u001b[32m━━━━━━━━━━━━━━━━━━━━\u001b[0m\u001b[37m\u001b[0m \u001b[1m0s\u001b[0m 66ms/step - accuracy: 0.3333 - loss: 0.3002 - val_accuracy: 0.0000e+00 - val_loss: 0.4537\n",
            "Epoch 75/100\n",
            "\u001b[1m1/1\u001b[0m \u001b[32m━━━━━━━━━━━━━━━━━━━━\u001b[0m\u001b[37m\u001b[0m \u001b[1m0s\u001b[0m 71ms/step - accuracy: 0.3333 - loss: 0.2970 - val_accuracy: 0.0000e+00 - val_loss: 0.4537\n",
            "Epoch 76/100\n",
            "\u001b[1m1/1\u001b[0m \u001b[32m━━━━━━━━━━━━━━━━━━━━\u001b[0m\u001b[37m\u001b[0m \u001b[1m0s\u001b[0m 86ms/step - accuracy: 0.3333 - loss: 0.2939 - val_accuracy: 0.0000e+00 - val_loss: 0.4537\n",
            "Epoch 77/100\n",
            "\u001b[1m1/1\u001b[0m \u001b[32m━━━━━━━━━━━━━━━━━━━━\u001b[0m\u001b[37m\u001b[0m \u001b[1m0s\u001b[0m 89ms/step - accuracy: 0.3333 - loss: 0.2909 - val_accuracy: 0.0000e+00 - val_loss: 0.4537\n",
            "Epoch 78/100\n",
            "\u001b[1m1/1\u001b[0m \u001b[32m━━━━━━━━━━━━━━━━━━━━\u001b[0m\u001b[37m\u001b[0m \u001b[1m0s\u001b[0m 130ms/step - accuracy: 0.3333 - loss: 0.2879 - val_accuracy: 0.0000e+00 - val_loss: 0.4537\n",
            "Epoch 79/100\n",
            "\u001b[1m1/1\u001b[0m \u001b[32m━━━━━━━━━━━━━━━━━━━━\u001b[0m\u001b[37m\u001b[0m \u001b[1m0s\u001b[0m 72ms/step - accuracy: 0.3333 - loss: 0.2851 - val_accuracy: 0.0000e+00 - val_loss: 0.4537\n",
            "Epoch 80/100\n",
            "\u001b[1m1/1\u001b[0m \u001b[32m━━━━━━━━━━━━━━━━━━━━\u001b[0m\u001b[37m\u001b[0m \u001b[1m0s\u001b[0m 102ms/step - accuracy: 0.3333 - loss: 0.2825 - val_accuracy: 0.0000e+00 - val_loss: 0.4536\n",
            "Epoch 81/100\n",
            "\u001b[1m1/1\u001b[0m \u001b[32m━━━━━━━━━━━━━━━━━━━━\u001b[0m\u001b[37m\u001b[0m \u001b[1m0s\u001b[0m 70ms/step - accuracy: 0.3333 - loss: 0.2800 - val_accuracy: 0.0000e+00 - val_loss: 0.4536\n",
            "Epoch 82/100\n",
            "\u001b[1m1/1\u001b[0m \u001b[32m━━━━━━━━━━━━━━━━━━━━\u001b[0m\u001b[37m\u001b[0m \u001b[1m0s\u001b[0m 135ms/step - accuracy: 0.3333 - loss: 0.2777 - val_accuracy: 0.0000e+00 - val_loss: 0.4536\n",
            "Epoch 83/100\n",
            "\u001b[1m1/1\u001b[0m \u001b[32m━━━━━━━━━━━━━━━━━━━━\u001b[0m\u001b[37m\u001b[0m \u001b[1m0s\u001b[0m 70ms/step - accuracy: 0.3333 - loss: 0.2753 - val_accuracy: 0.0000e+00 - val_loss: 0.4536\n",
            "Epoch 84/100\n",
            "\u001b[1m1/1\u001b[0m \u001b[32m━━━━━━━━━━━━━━━━━━━━\u001b[0m\u001b[37m\u001b[0m \u001b[1m0s\u001b[0m 72ms/step - accuracy: 0.3333 - loss: 0.2728 - val_accuracy: 0.0000e+00 - val_loss: 0.4537\n",
            "Epoch 85/100\n",
            "\u001b[1m1/1\u001b[0m \u001b[32m━━━━━━━━━━━━━━━━━━━━\u001b[0m\u001b[37m\u001b[0m \u001b[1m0s\u001b[0m 76ms/step - accuracy: 0.3333 - loss: 0.2701 - val_accuracy: 0.0000e+00 - val_loss: 0.4537\n",
            "Epoch 86/100\n",
            "\u001b[1m1/1\u001b[0m \u001b[32m━━━━━━━━━━━━━━━━━━━━\u001b[0m\u001b[37m\u001b[0m \u001b[1m0s\u001b[0m 71ms/step - accuracy: 0.3333 - loss: 0.2672 - val_accuracy: 0.0000e+00 - val_loss: 0.4537\n",
            "Epoch 87/100\n",
            "\u001b[1m1/1\u001b[0m \u001b[32m━━━━━━━━━━━━━━━━━━━━\u001b[0m\u001b[37m\u001b[0m \u001b[1m0s\u001b[0m 102ms/step - accuracy: 0.3333 - loss: 0.2644 - val_accuracy: 0.0000e+00 - val_loss: 0.4536\n",
            "Epoch 88/100\n",
            "\u001b[1m1/1\u001b[0m \u001b[32m━━━━━━━━━━━━━━━━━━━━\u001b[0m\u001b[37m\u001b[0m \u001b[1m0s\u001b[0m 110ms/step - accuracy: 0.3333 - loss: 0.2616 - val_accuracy: 0.0000e+00 - val_loss: 0.4535\n",
            "Epoch 89/100\n",
            "\u001b[1m1/1\u001b[0m \u001b[32m━━━━━━━━━━━━━━━━━━━━\u001b[0m\u001b[37m\u001b[0m \u001b[1m0s\u001b[0m 140ms/step - accuracy: 0.3333 - loss: 0.2590 - val_accuracy: 0.0000e+00 - val_loss: 0.4532\n",
            "Epoch 90/100\n",
            "\u001b[1m1/1\u001b[0m \u001b[32m━━━━━━━━━━━━━━━━━━━━\u001b[0m\u001b[37m\u001b[0m \u001b[1m0s\u001b[0m 90ms/step - accuracy: 0.3333 - loss: 0.2566 - val_accuracy: 0.0000e+00 - val_loss: 0.4529\n",
            "Epoch 91/100\n",
            "\u001b[1m1/1\u001b[0m \u001b[32m━━━━━━━━━━━━━━━━━━━━\u001b[0m\u001b[37m\u001b[0m \u001b[1m0s\u001b[0m 118ms/step - accuracy: 0.3333 - loss: 0.2543 - val_accuracy: 0.0000e+00 - val_loss: 0.4526\n",
            "Epoch 92/100\n",
            "\u001b[1m1/1\u001b[0m \u001b[32m━━━━━━━━━━━━━━━━━━━━\u001b[0m\u001b[37m\u001b[0m \u001b[1m0s\u001b[0m 68ms/step - accuracy: 0.3333 - loss: 0.2523 - val_accuracy: 0.0000e+00 - val_loss: 0.4522\n",
            "Epoch 93/100\n",
            "\u001b[1m1/1\u001b[0m \u001b[32m━━━━━━━━━━━━━━━━━━━━\u001b[0m\u001b[37m\u001b[0m \u001b[1m0s\u001b[0m 72ms/step - accuracy: 0.3333 - loss: 0.2506 - val_accuracy: 0.0000e+00 - val_loss: 0.4516\n",
            "Epoch 94/100\n",
            "\u001b[1m1/1\u001b[0m \u001b[32m━━━━━━━━━━━━━━━━━━━━\u001b[0m\u001b[37m\u001b[0m \u001b[1m0s\u001b[0m 134ms/step - accuracy: 0.3333 - loss: 0.2492 - val_accuracy: 0.0000e+00 - val_loss: 0.4510\n",
            "Epoch 95/100\n",
            "\u001b[1m1/1\u001b[0m \u001b[32m━━━━━━━━━━━━━━━━━━━━\u001b[0m\u001b[37m\u001b[0m \u001b[1m0s\u001b[0m 149ms/step - accuracy: 0.3333 - loss: 0.2483 - val_accuracy: 0.0000e+00 - val_loss: 0.4502\n",
            "Epoch 96/100\n",
            "\u001b[1m1/1\u001b[0m \u001b[32m━━━━━━━━━━━━━━━━━━━━\u001b[0m\u001b[37m\u001b[0m \u001b[1m0s\u001b[0m 100ms/step - accuracy: 0.3333 - loss: 0.2476 - val_accuracy: 0.0000e+00 - val_loss: 0.4493\n",
            "Epoch 97/100\n",
            "\u001b[1m1/1\u001b[0m \u001b[32m━━━━━━━━━━━━━━━━━━━━\u001b[0m\u001b[37m\u001b[0m \u001b[1m0s\u001b[0m 114ms/step - accuracy: 0.3333 - loss: 0.2469 - val_accuracy: 0.0000e+00 - val_loss: 0.4484\n",
            "Epoch 98/100\n",
            "\u001b[1m1/1\u001b[0m \u001b[32m━━━━━━━━━━━━━━━━━━━━\u001b[0m\u001b[37m\u001b[0m \u001b[1m0s\u001b[0m 72ms/step - accuracy: 0.3333 - loss: 0.2460 - val_accuracy: 0.0000e+00 - val_loss: 0.4473\n",
            "Epoch 99/100\n",
            "\u001b[1m1/1\u001b[0m \u001b[32m━━━━━━━━━━━━━━━━━━━━\u001b[0m\u001b[37m\u001b[0m \u001b[1m0s\u001b[0m 68ms/step - accuracy: 0.3333 - loss: 0.2446 - val_accuracy: 0.0000e+00 - val_loss: 0.4462\n",
            "Epoch 100/100\n",
            "\u001b[1m1/1\u001b[0m \u001b[32m━━━━━━━━━━━━━━━━━━━━\u001b[0m\u001b[37m\u001b[0m \u001b[1m0s\u001b[0m 78ms/step - accuracy: 0.3333 - loss: 0.2427 - val_accuracy: 0.0000e+00 - val_loss: 0.4450\n"
          ]
        },
        {
          "output_type": "execute_result",
          "data": {
            "text/plain": [
              "<keras.src.callbacks.history.History at 0x7d86d62360e0>"
            ]
          },
          "metadata": {},
          "execution_count": 41
        }
      ]
    },
    {
      "cell_type": "code",
      "source": [],
      "metadata": {
        "id": "QFHZi_0T8jau"
      },
      "execution_count": null,
      "outputs": []
    },
    {
      "cell_type": "markdown",
      "source": [],
      "metadata": {
        "id": "MefUHftE6bp2"
      }
    },
    {
      "cell_type": "code",
      "source": [
        "# Purpose of Inference Models\n",
        "\n",
        "#After the model has been trained, we need to define the inference process to actually generate translations.\n",
        "#In the training process, both the encoder and decoder receive complete sequences. However, during inference (prediction), we only have the input sentence,\n",
        "#and the decoder must generate the output word by word, one step at a time.\n",
        "#Thus, we create two separate models for Inference:\n",
        "#Encoder model: Converts the input sentence into internal states (hidden and cell states)\n",
        "#that are passed to the decoder.\n",
        "#Decoder model: Takes the encoder's internal states and generates the output sequence word by word\n",
        "#Define Inference models for translation\n",
        "\n",
        "#Encoder model\n",
        "encoder_model = Model(encoder_inputs, [state_h, state_c])\n",
        "\n",
        "#Purpose: The encoder processes the input sequence and outputs its final internal states\n",
        "#(hidden state state_h and cell state state_c).\n",
        "#These states will be passed to the decoder during inference.\n",
        "#encoder_inputs: The input sequence for the encoder (which is padded).\n",
        "#[state_h, state_c]: The encoder's final states that the decoder will use to start\n",
        "#generating the output sequence.\n",
        "\n",
        "# Decoder model\n",
        "decoder_state_input_h = Input(shape=(latent_dim,))\n",
        "decoder_state_input_c = Input(shape=(latent_dim,))\n",
        "\n",
        "#decoder_state_input_h and decoder_state_input_c: Inputs to the decoder.\n",
        "#These are the hidden state (state_h) and cell state (state_c)\n",
        "#that were produced by the encoder.\n",
        "#In Inference, we don't have these states at the beginning.\n",
        "#so they are taken as Inputs for the decoder.\n",
        "\n",
        "decoder_lstm_outputs, decoder_state_h, decoder_state_c = decoder_lstm(decoder_embedding, initial_state=[decoder_state_input_h, decoder_state_input_c])\n",
        "decoder_outputs = decoder_dense(decoder_lstm_outputs)\n",
        "decoder_model = Model([decoder_inputs, decoder_state_input_h, decoder_state_input_c], [decoder_outputs, decoder_state_h, decoder_state_c])\n",
        "\n",
        "#The decoder LSTH takes in the current word (embedded using the decoder embedding layer)\n",
        "#along with the hidden and cell states (decoder_state_input_h_and_decoder_state_input_c)\n",
        "#as initial states.\n",
        "#decoder_lstm_outputs: The LSTM output for the current time step\n",
        "#(which represents the probabilities for each word in the vocabulary).\n",
        "#decoder_state_h, decoder_state_c: The updated hidden and cell states after\n",
        "#processing the currert word.These states will be passed back into the LSTM for\n",
        "#the next time step.\n",
        "\n",
        "#Function to decode a sequence using the trained model\n",
        "#The fuction takes an Input sequence (from a source language, for example)\n",
        "#and uses an encoder-decoder model to generate a translated sequence ( target language).\n",
        "#It perfores this in an iterative manner, predicting one word at a time,\n",
        "#until it either predicts the end-of-sequence talken or reaches a specified maximum length.\n",
        "\n",
        "def decode_sequence(input_seq):\n",
        "    # Encode the input as state vectors.\n",
        "    states_value = encoder_model.predict(input_seq)\n",
        "\n",
        "    #input_seq: This is the sequence that you want to translate.\n",
        "    #The encoder nodel processes the Input sequence and returns the states_value\n",
        "    #(Hidden and cell states) that represent the context learned from the input sequence.\n",
        "    #These states are used as the initial state for the decoder.\n",
        "\n",
        "    target_seq = np.zeros((1, 1))\n",
        "\n",
        "    #target seq: This starts as an array of zeros because at the beginning,\n",
        "    #there is no input to the decoder. As the decoder predicts words,\n",
        "    #this array will hold the index of the word generated at the previous step.\n",
        "    #decoded_sentence: An empty string that will hold the generated translation.\n",
        "\n",
        "    stop_condition = False\n",
        "    decoded_sentence = \"\"\n",
        "    #decode_sentence:  An empty string that will hold the generated translation.\n",
        "    #stop_condition:A flag to indicate when the decoding process should stop.\n",
        "\n",
        "\n",
        "    while not stop_condition:\n",
        "    #The loop continues until the translation is complete\n",
        "    #i.e., when the decoder generates an end token or exceeds the allowed length).\n",
        "        output_tokens, h, c = decoder_model.predict([target_seq] + states_value)\n",
        "        #decoder model uses the current target sequence (target seq)\n",
        "        #and the encoder's final states (states_value) to predict the next word.\n",
        "        #output tokens: The predicted probabilities of the next word.\n",
        "        #h, c: The updated hidden and cell states. These states are passed to the next iteration to ensure\n",
        "        sampled_token_index = np.argmax(output_tokens[0, -1, :])\n",
        "        #sampled_token_index: The index of the predicted word.\n",
        "        sample_word=target_tokenizer.index_word.get(sampled_token_index,\"\")\n",
        "        #sampled_char: The word corresponding to the predicted index.\n",
        "\n",
        "\n",
        "        #output_tokens[0,-1,:]:\n",
        "# the output_tokens array contains the predicted probabilities for each possible word in the vocal\n",
        "#the shape of output_tokens is typically (batch_size, sequence_length, vacbulary_size).\n",
        "#in this case batch_size is 1 beacause we are decoding one sentence\n",
        "#sequence_length is 1 bcz, at each time step, only one word is generated\n",
        "#vocabulary_size is the number of possible words in the target vocabulary.\n",
        "#output_tokens[0,-1:] selects the predicted probabilities of words at the current time step\n",
        "#from the vocabulary\n",
        "#Illustration: suppose the vocabulary has 5 words: { 0:'hello',1:'world', 2:'how', 3:'are', 4:'you'}\n",
        "#the output_tokens might look something like this:\n",
        "#output_tokens[0,-1,:]=[0.1,0.6,0.05,0.15,0.1]\n",
        "#sampled_token_index=np.argmax(output_tokens[0,-1,:]):\n",
        "\n",
        "#np.argmax() finds the index of the highest probability from the output_tokens array.\n",
        "#In this case , it will select the index 1 because the highest probability (0.6)\n",
        "#corresponds to the word 'world'.\n",
        "#now, using the sampled_toekn_index=1:\n",
        "#sample_word=target_tokenizer.index_word.get(1,\"\")\n",
        "#sampled_word=\"world\"\n",
        "#putting it all together\n",
        "#after running np.argmax(), the most likely words index(1 in this case) is selected.\n",
        "#this index is then used to retrieve the corresponding word('world' in this case)\n",
        "#from the tokenizer's dictionary\n",
        "\n",
        "        decoded_sentence += sampled_word + \" \"\n",
        "        #the predicted word is appended to the decoded_sentence string:\n",
        "        if sampled_word ==\"<end>\" or len(decoded_sentence)> max_target_len:\n",
        "          stop_condition =True\n",
        "  # the decoding process stops when the < end> token is predicted\n",
        "  # of if the sentence exceeds the maximum allowed length(max_target_len).\n",
        "  #update the target sequence for the next iteratioon:\n",
        "        target_seq=np.zeros((1,1))\n",
        "    #this line created the 2D NumPy array filled with zeros, with the shape(1,1)\n",
        "    #in the context of sequence-to-sequence models (such as machine translation).\n",
        "    #this is used to hold the token (word index) that will be fed as input into the decoder\n",
        "        target_seq[0,0]=sampled_token_index\n",
        "    #target_seq[0,0] =sampled_token_index:\n",
        "    #this line assigns the value of sampled_token_index (which is the index of the word predicted\n",
        "    # by the decoder in the previous step) to the target_seq.\n",
        "    #The value is placed at position [0,0] bcz, its a 1*1 array and[0,0]\n",
        "    #refers to the only element in that array.\n",
        "    #sampled_token_index=1(from the previous word prediction step)\n",
        "    #after this assignment, the target_seq will look like this:\n",
        "    #target_seq[0,0]=1\n",
        "    #result:  target_seq=[[1.]]\n",
        "    #purpose:\n",
        "    #the target_seq is used as the input for the decoder at the next time step.\n",
        "    #At each decoding step, the decoder needs to be fed the token (or word) predicted\n",
        "    #in the previous time step, so this array is updated with the index of the last\n",
        "    #predicted word (sampled_token_index) and then passed to the decoder for the next predictions.\n",
        "        state_value=[h,c]\n",
        "        #the updated hiddine and dell states ( h and c) are passed back into the decoder\n",
        "        #to maintain the flow of information accross time steps.\n",
        "    return decoded_sentence\n",
        "\n",
        "def translate(sentence):\n",
        "    sequence = input_tokenizer.texts_to_sequences([sentence])\n",
        "    sequence = pad_sequences(sequence, maxlen=max_input_len, padding=\"post\")\n",
        "    translation = decode_sequence(sequence)\n",
        "    return translation\n",
        "\n",
        "\n",
        "translated_sentence = translate(\"hello\")\n",
        "print(\"Translated Sentence:\", translated_sentence)\n"
      ],
      "metadata": {
        "id": "PB2tbB726OWL",
        "colab": {
          "base_uri": "https://localhost:8080/",
          "height": 373
        },
        "outputId": "cf300532-ec9c-44b8-cae6-2773859fd25a"
      },
      "execution_count": null,
      "outputs": [
        {
          "output_type": "stream",
          "name": "stdout",
          "text": [
            "\u001b[1m1/1\u001b[0m \u001b[32m━━━━━━━━━━━━━━━━━━━━\u001b[0m\u001b[37m\u001b[0m \u001b[1m0s\u001b[0m 229ms/step\n",
            "\u001b[1m1/1\u001b[0m \u001b[32m━━━━━━━━━━━━━━━━━━━━\u001b[0m\u001b[37m\u001b[0m \u001b[1m0s\u001b[0m 185ms/step\n"
          ]
        },
        {
          "output_type": "error",
          "ename": "NameError",
          "evalue": "name 'sampled_word' is not defined",
          "traceback": [
            "\u001b[0;31m---------------------------------------------------------------------------\u001b[0m",
            "\u001b[0;31mNameError\u001b[0m                                 Traceback (most recent call last)",
            "\u001b[0;32m<ipython-input-44-185448762eab>\u001b[0m in \u001b[0;36m<cell line: 149>\u001b[0;34m()\u001b[0m\n\u001b[1;32m    147\u001b[0m \u001b[0;34m\u001b[0m\u001b[0m\n\u001b[1;32m    148\u001b[0m \u001b[0;34m\u001b[0m\u001b[0m\n\u001b[0;32m--> 149\u001b[0;31m \u001b[0mtranslated_sentence\u001b[0m \u001b[0;34m=\u001b[0m \u001b[0mtranslate\u001b[0m\u001b[0;34m(\u001b[0m\u001b[0;34m\"hello\"\u001b[0m\u001b[0;34m)\u001b[0m\u001b[0;34m\u001b[0m\u001b[0;34m\u001b[0m\u001b[0m\n\u001b[0m\u001b[1;32m    150\u001b[0m \u001b[0mprint\u001b[0m\u001b[0;34m(\u001b[0m\u001b[0;34m\"Translated Sentence:\"\u001b[0m\u001b[0;34m,\u001b[0m \u001b[0mtranslated_sentence\u001b[0m\u001b[0;34m)\u001b[0m\u001b[0;34m\u001b[0m\u001b[0;34m\u001b[0m\u001b[0m\n",
            "\u001b[0;32m<ipython-input-44-185448762eab>\u001b[0m in \u001b[0;36mtranslate\u001b[0;34m(sentence)\u001b[0m\n\u001b[1;32m    143\u001b[0m     \u001b[0msequence\u001b[0m \u001b[0;34m=\u001b[0m \u001b[0minput_tokenizer\u001b[0m\u001b[0;34m.\u001b[0m\u001b[0mtexts_to_sequences\u001b[0m\u001b[0;34m(\u001b[0m\u001b[0;34m[\u001b[0m\u001b[0msentence\u001b[0m\u001b[0;34m]\u001b[0m\u001b[0;34m)\u001b[0m\u001b[0;34m\u001b[0m\u001b[0;34m\u001b[0m\u001b[0m\n\u001b[1;32m    144\u001b[0m     \u001b[0msequence\u001b[0m \u001b[0;34m=\u001b[0m \u001b[0mpad_sequences\u001b[0m\u001b[0;34m(\u001b[0m\u001b[0msequence\u001b[0m\u001b[0;34m,\u001b[0m \u001b[0mmaxlen\u001b[0m\u001b[0;34m=\u001b[0m\u001b[0mmax_input_len\u001b[0m\u001b[0;34m,\u001b[0m \u001b[0mpadding\u001b[0m\u001b[0;34m=\u001b[0m\u001b[0;34m\"post\"\u001b[0m\u001b[0;34m)\u001b[0m\u001b[0;34m\u001b[0m\u001b[0;34m\u001b[0m\u001b[0m\n\u001b[0;32m--> 145\u001b[0;31m     \u001b[0mtranslation\u001b[0m \u001b[0;34m=\u001b[0m \u001b[0mdecode_sequence\u001b[0m\u001b[0;34m(\u001b[0m\u001b[0msequence\u001b[0m\u001b[0;34m)\u001b[0m\u001b[0;34m\u001b[0m\u001b[0;34m\u001b[0m\u001b[0m\n\u001b[0m\u001b[1;32m    146\u001b[0m     \u001b[0;32mreturn\u001b[0m \u001b[0mtranslation\u001b[0m\u001b[0;34m\u001b[0m\u001b[0;34m\u001b[0m\u001b[0m\n\u001b[1;32m    147\u001b[0m \u001b[0;34m\u001b[0m\u001b[0m\n",
            "\u001b[0;32m<ipython-input-44-185448762eab>\u001b[0m in \u001b[0;36mdecode_sequence\u001b[0;34m(input_seq)\u001b[0m\n\u001b[1;32m    109\u001b[0m \u001b[0;31m#from the tokenizer's dictionary\u001b[0m\u001b[0;34m\u001b[0m\u001b[0;34m\u001b[0m\u001b[0m\n\u001b[1;32m    110\u001b[0m \u001b[0;34m\u001b[0m\u001b[0m\n\u001b[0;32m--> 111\u001b[0;31m         \u001b[0mdecoded_sentence\u001b[0m \u001b[0;34m+=\u001b[0m \u001b[0msampled_word\u001b[0m \u001b[0;34m+\u001b[0m \u001b[0;34m\" \"\u001b[0m\u001b[0;34m\u001b[0m\u001b[0;34m\u001b[0m\u001b[0m\n\u001b[0m\u001b[1;32m    112\u001b[0m         \u001b[0;31m#the predicted word is appended to the decoded_sentence string:\u001b[0m\u001b[0;34m\u001b[0m\u001b[0;34m\u001b[0m\u001b[0m\n\u001b[1;32m    113\u001b[0m         \u001b[0;32mif\u001b[0m \u001b[0msampled_word\u001b[0m \u001b[0;34m==\u001b[0m\u001b[0;34m\"<end>\"\u001b[0m \u001b[0;32mor\u001b[0m \u001b[0mlen\u001b[0m\u001b[0;34m(\u001b[0m\u001b[0mdecoded_sentence\u001b[0m\u001b[0;34m)\u001b[0m\u001b[0;34m>\u001b[0m \u001b[0mmax_target_len\u001b[0m\u001b[0;34m:\u001b[0m\u001b[0;34m\u001b[0m\u001b[0;34m\u001b[0m\u001b[0m\n",
            "\u001b[0;31mNameError\u001b[0m: name 'sampled_word' is not defined"
          ]
        }
      ]
    },
    {
      "cell_type": "code",
      "source": [
        "import numpy as np\n",
        "from tensorflow.keras.preprocessing.sequence import pad_sequences\n",
        "from tensorflow.keras.models import Model\n",
        "from tensorflow.keras.layers import Input\n",
        "\n",
        "# Assume input_tokenizer, encoder_model, decoder_model, and other necessary components are defined\n",
        "\n",
        "def decode_sequence(input_seq):\n",
        "    # Encode the input as state vectors\n",
        "    states_value = encoder_model.predict(input_seq)\n",
        "\n",
        "    # Create the target sequence with a start token (assuming 0 is the <start> token index)\n",
        "    target_seq = np.zeros((1, 1))\n",
        "    target_seq[0, 0] = target_tokenizer.word_index['<start>']\n",
        "\n",
        "    # Create variables to store the translation and stop condition\n",
        "    stop_condition = False\n",
        "    decoded_sentence = \"\"\n",
        "\n",
        "    while not stop_condition:\n",
        "        # Get the output tokens and updated states from the decoder model\n",
        "        output_tokens, h, c = decoder_model.predict([target_seq] + states_value)\n",
        "\n",
        "        # Get the index of the most likely next word\n",
        "        sampled_token_index = np.argmax(output_tokens[0, -1, :])\n",
        "        sampled_word = target_tokenizer.index_word.get(sampled_token_index, '')\n",
        "\n",
        "        # Append the word to the decoded sentence\n",
        "        decoded_sentence += ' ' + sampled_word\n",
        "\n",
        "        # Check for the end token or if the sentence exceeds max length\n",
        "        if (sampled_word == \"<end>\" or len(decoded_sentence.split()) > max_target_len):\n",
        "            stop_condition = True\n",
        "\n",
        "        # Update the target sequence to the last predicted word's index for the next time step\n",
        "        target_seq = np.zeros((1, 1))\n",
        "        target_seq[0, 0] = sampled_token_index\n",
        "\n",
        "        # Update the states for the next iteration\n",
        "        states_value = [h, c]\n",
        "\n",
        "    return decoded_sentence\n",
        "\n",
        "def translate(sentence):\n",
        "    # Convert the input sentence into a sequence\n",
        "    sequence = input_tokenizer.texts_to_sequences([sentence])\n",
        "    padded_sequence = pad_sequences(sequence, maxlen=max_input_len, padding=\"post\")\n",
        "\n",
        "    # Generate the translation using the decoder\n",
        "    translation = decode_sequence(padded_sequence)\n",
        "\n",
        "    return translation\n",
        "\n",
        "# Example usage\n",
        "translated_sentence = translate(\"hello\")\n",
        "print(\"Translated Sentence:\", translated_sentence)\n"
      ],
      "metadata": {
        "colab": {
          "base_uri": "https://localhost:8080/",
          "height": 356
        },
        "id": "Hob8aHFmGzJN",
        "outputId": "f1356366-2083-420e-d748-c84f078a23eb"
      },
      "execution_count": null,
      "outputs": [
        {
          "output_type": "stream",
          "name": "stdout",
          "text": [
            "\u001b[1m1/1\u001b[0m \u001b[32m━━━━━━━━━━━━━━━━━━━━\u001b[0m\u001b[37m\u001b[0m \u001b[1m0s\u001b[0m 329ms/step\n"
          ]
        },
        {
          "output_type": "error",
          "ename": "KeyError",
          "evalue": "'<start>'",
          "traceback": [
            "\u001b[0;31m---------------------------------------------------------------------------\u001b[0m",
            "\u001b[0;31mKeyError\u001b[0m                                  Traceback (most recent call last)",
            "\u001b[0;32m<ipython-input-23-98185aa0c27a>\u001b[0m in \u001b[0;36m<cell line: 55>\u001b[0;34m()\u001b[0m\n\u001b[1;32m     53\u001b[0m \u001b[0;34m\u001b[0m\u001b[0m\n\u001b[1;32m     54\u001b[0m \u001b[0;31m# Example usage\u001b[0m\u001b[0;34m\u001b[0m\u001b[0;34m\u001b[0m\u001b[0m\n\u001b[0;32m---> 55\u001b[0;31m \u001b[0mtranslated_sentence\u001b[0m \u001b[0;34m=\u001b[0m \u001b[0mtranslate\u001b[0m\u001b[0;34m(\u001b[0m\u001b[0;34m\"hello\"\u001b[0m\u001b[0;34m)\u001b[0m\u001b[0;34m\u001b[0m\u001b[0;34m\u001b[0m\u001b[0m\n\u001b[0m\u001b[1;32m     56\u001b[0m \u001b[0mprint\u001b[0m\u001b[0;34m(\u001b[0m\u001b[0;34m\"Translated Sentence:\"\u001b[0m\u001b[0;34m,\u001b[0m \u001b[0mtranslated_sentence\u001b[0m\u001b[0;34m)\u001b[0m\u001b[0;34m\u001b[0m\u001b[0;34m\u001b[0m\u001b[0m\n",
            "\u001b[0;32m<ipython-input-23-98185aa0c27a>\u001b[0m in \u001b[0;36mtranslate\u001b[0;34m(sentence)\u001b[0m\n\u001b[1;32m     48\u001b[0m \u001b[0;34m\u001b[0m\u001b[0m\n\u001b[1;32m     49\u001b[0m     \u001b[0;31m# Generate the translation using the decoder\u001b[0m\u001b[0;34m\u001b[0m\u001b[0;34m\u001b[0m\u001b[0m\n\u001b[0;32m---> 50\u001b[0;31m     \u001b[0mtranslation\u001b[0m \u001b[0;34m=\u001b[0m \u001b[0mdecode_sequence\u001b[0m\u001b[0;34m(\u001b[0m\u001b[0mpadded_sequence\u001b[0m\u001b[0;34m)\u001b[0m\u001b[0;34m\u001b[0m\u001b[0;34m\u001b[0m\u001b[0m\n\u001b[0m\u001b[1;32m     51\u001b[0m \u001b[0;34m\u001b[0m\u001b[0m\n\u001b[1;32m     52\u001b[0m     \u001b[0;32mreturn\u001b[0m \u001b[0mtranslation\u001b[0m\u001b[0;34m\u001b[0m\u001b[0;34m\u001b[0m\u001b[0m\n",
            "\u001b[0;32m<ipython-input-23-98185aa0c27a>\u001b[0m in \u001b[0;36mdecode_sequence\u001b[0;34m(input_seq)\u001b[0m\n\u001b[1;32m     12\u001b[0m     \u001b[0;31m# Create the target sequence with a start token (assuming 0 is the <start> token index)\u001b[0m\u001b[0;34m\u001b[0m\u001b[0;34m\u001b[0m\u001b[0m\n\u001b[1;32m     13\u001b[0m     \u001b[0mtarget_seq\u001b[0m \u001b[0;34m=\u001b[0m \u001b[0mnp\u001b[0m\u001b[0;34m.\u001b[0m\u001b[0mzeros\u001b[0m\u001b[0;34m(\u001b[0m\u001b[0;34m(\u001b[0m\u001b[0;36m1\u001b[0m\u001b[0;34m,\u001b[0m \u001b[0;36m1\u001b[0m\u001b[0;34m)\u001b[0m\u001b[0;34m)\u001b[0m\u001b[0;34m\u001b[0m\u001b[0;34m\u001b[0m\u001b[0m\n\u001b[0;32m---> 14\u001b[0;31m     \u001b[0mtarget_seq\u001b[0m\u001b[0;34m[\u001b[0m\u001b[0;36m0\u001b[0m\u001b[0;34m,\u001b[0m \u001b[0;36m0\u001b[0m\u001b[0;34m]\u001b[0m \u001b[0;34m=\u001b[0m \u001b[0mtarget_tokenizer\u001b[0m\u001b[0;34m.\u001b[0m\u001b[0mword_index\u001b[0m\u001b[0;34m[\u001b[0m\u001b[0;34m'<start>'\u001b[0m\u001b[0;34m]\u001b[0m\u001b[0;34m\u001b[0m\u001b[0;34m\u001b[0m\u001b[0m\n\u001b[0m\u001b[1;32m     15\u001b[0m \u001b[0;34m\u001b[0m\u001b[0m\n\u001b[1;32m     16\u001b[0m     \u001b[0;31m# Create variables to store the translation and stop condition\u001b[0m\u001b[0;34m\u001b[0m\u001b[0;34m\u001b[0m\u001b[0m\n",
            "\u001b[0;31mKeyError\u001b[0m: '<start>'"
          ]
        }
      ]
    },
    {
      "cell_type": "code",
      "source": [
        "import numpy as np\n",
        "from tensorflow.keras.preprocessing.sequence import pad_sequences\n",
        "from tensorflow.keras.models import Model\n",
        "from tensorflow.keras.layers import Input\n",
        "\n",
        "# Assume input_tokenizer, encoder_model, decoder_model, and other necessary components are defined\n",
        "\n",
        "# Ensure the target data includes <start> and <end> tokens\n",
        "target_sentences = [\n",
        "    \"<start> hello world <end>\",\n",
        "    \"<start> how are you <end>\",\n",
        "    # Add more sentences...\n",
        "]\n",
        "\n",
        "# Fit the tokenizer on the modified target sentences\n",
        "target_tokenizer = <your tokenizer method>  # Define this appropriately\n",
        "target_tokenizer.fit_on_texts(target_sentences)\n",
        "\n",
        "# Function to decode a sequence\n",
        "def decode_sequence(input_seq):\n",
        "    # Encode the input as state vectors\n",
        "    states_value = encoder_model.predict(input_seq)\n",
        "\n",
        "    # Create the target sequence with a start token\n",
        "    target_seq = np.zeros((1, 1))\n",
        "    target_seq[0, 0] = target_tokenizer.word_index['<start>']\n",
        "\n",
        "    # Create variables to store the translation and stop condition\n",
        "    stop_condition = False\n",
        "    decoded_sentence = \"\"\n",
        "\n",
        "    while not stop_condition:\n",
        "        # Get the output tokens and updated states from the decoder model\n",
        "        output_tokens, h, c = decoder_model.predict([target_seq] + states_value)\n",
        "\n",
        "        # Get the index of the most likely next word\n",
        "        sampled_token_index = np.argmax(output_tokens[0, -1, :])\n",
        "        sampled_word = target_tokenizer.index_word.get(sampled_token_index, '')\n",
        "\n",
        "        # Append the word to the decoded sentence\n",
        "        decoded_sentence += ' ' + sampled_word\n",
        "\n",
        "        # Check for the end token or if the sentence exceeds max length\n",
        "        if (sampled_word == \"<end>\" or len(decoded_sentence.split()) > max_target_len):\n",
        "            stop_condition = True\n",
        "\n",
        "        # Update the target sequence to the last predicted word's index for the next time step\n",
        "        target_seq = np.zeros((1, 1))\n",
        "        target_seq[0, 0] = sampled_token_index\n",
        "\n",
        "        # Update the states for the next iteration\n",
        "        states_value = [h, c]\n",
        "\n",
        "    return decoded_sentence\n",
        "\n",
        "# Function to translate an input sentence\n",
        "def translate(sentence):\n",
        "    # Convert the input sentence into a sequence\n",
        "    sequence = input_tokenizer.texts_to_sequences([sentence])\n",
        "    padded_sequence = pad_sequences(sequence, maxlen=max_input_len, padding=\"post\")\n",
        "\n",
        "    # Generate the translation using the decoder\n",
        "    translation = decode_sequence(padded_sequence)\n",
        "\n",
        "    return translation\n",
        "\n",
        "# Example usage\n",
        "translated_sentence = translate(\"hello\")\n",
        "print(\"Translated Sentence:\", translated_sentence)\n",
        "\n"
      ],
      "metadata": {
        "colab": {
          "base_uri": "https://localhost:8080/",
          "height": 106
        },
        "id": "AUvfmlJ1HE9V",
        "outputId": "6158d417-1a0e-4280-e203-600df4ef8439"
      },
      "execution_count": null,
      "outputs": [
        {
          "output_type": "error",
          "ename": "SyntaxError",
          "evalue": "invalid syntax (<ipython-input-24-78e5de326418>, line 16)",
          "traceback": [
            "\u001b[0;36m  File \u001b[0;32m\"<ipython-input-24-78e5de326418>\"\u001b[0;36m, line \u001b[0;32m16\u001b[0m\n\u001b[0;31m    target_tokenizer = <your tokenizer method>  # Define this appropriately\u001b[0m\n\u001b[0m                       ^\u001b[0m\n\u001b[0;31mSyntaxError\u001b[0m\u001b[0;31m:\u001b[0m invalid syntax\n"
          ]
        }
      ]
    }
  ]
}